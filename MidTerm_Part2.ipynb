{
 "cells": [
  {
   "cell_type": "markdown",
   "metadata": {
    "colab_type": "text",
    "id": "u1YDPNtbdHDj"
   },
   "source": [
    "# PETE 2061 Mid-term Exam (Part 2) \n",
    "\n",
    "## THIS IS DUE BY 10:10 AM TODAY"
   ]
  },
  {
   "cell_type": "markdown",
   "metadata": {},
   "source": [
    "1. The production rate from an oil well has been observed to decline following either the exponential or the hyperbolic decline model. The initial oil rate ($q_i$) from this well is 10,000 bopd, and its initial decline rate ($D_i$) is 0.1% per day (which is equivalent to 0.001 per day). Write a Python code that: <br>\n",
    "    a. Reads in either \"Exp\" or \"Hyp\" using the input function, and stores the string typed in by the user into a variable named model. <br>\n",
    "    b. If the model typed in by the user is \"Exp\", use the exponential decline model, which is given as: $q = q_i \\, exp(-D_i t)$, to predict the daily oil rate for the first 3650 days (10 years) of production. <br>\n",
    "    c. If the model typed in by the user is \"Hyp\", use the hyperbolic decline model, which is given as: $q = \\frac{q_i}{(1+b D_i t)^{1/b}}$, with a b value of 0.5, to predict the daily oil rate for the first 3650 days (~10 years) of production. <br>\n",
    "    d. Plot the oil rate computed against time using the plt.plot(time,rate) function, after importing matplotlib.pyplot as plt. Remember to use the plt.show() function to display the plot in your Jupyter Notebook <br>\n",
    "    e. Compute and display the mean, minimum and standard deviation of the computed oil rates. <br>    "
   ]
  },
  {
   "cell_type": "code",
   "execution_count": 44,
   "metadata": {},
   "outputs": [
    {
     "name": "stdout",
     "output_type": "stream",
     "text": [
      "Enter Exp or Hyp:Exp\n",
      "Exp\n",
      "1.4068617124461467e-12\n",
      "Enter Exp or Hyp:Exp\n",
      "Exp\n",
      "1.4068617124461467e-12\n"
     ]
    },
    {
     "data": {
      "image/png": "[encoded data removed]",
      "text/plain": [
       "<Figure size 432x288 with 1 Axes>"
      ]
     },
     "metadata": {
      "needs_background": "light"
     },
     "output_type": "display_data"
    },
    {
     "data": {
      "text/html": [
       "<div>\n",
       "<style scoped>\n",
       "    .dataframe tbody tr th:only-of-type {\n",
       "        vertical-align: middle;\n",
       "    }\n",
       "\n",
       "    .dataframe tbody tr th {\n",
       "        vertical-align: top;\n",
       "    }\n",
       "\n",
       "    .dataframe thead th {\n",
       "        text-align: right;\n",
       "    }\n",
       "</style>\n",
       "<table border=\"1\" class=\"dataframe\">\n",
       "  <thead>\n",
       "    <tr style=\"text-align: right;\">\n",
       "      <th></th>\n",
       "      <th>time</th>\n",
       "      <th>rate</th>\n",
       "    </tr>\n",
       "  </thead>\n",
       "  <tbody>\n",
       "    <tr>\n",
       "      <th>count</th>\n",
       "      <td>36500.000000</td>\n",
       "      <td>3.650000e+04</td>\n",
       "    </tr>\n",
       "    <tr>\n",
       "      <th>mean</th>\n",
       "      <td>18249.500000</td>\n",
       "      <td>2.741096e+02</td>\n",
       "    </tr>\n",
       "    <tr>\n",
       "      <th>std</th>\n",
       "      <td>10536.786749</td>\n",
       "      <td>1.138478e+03</td>\n",
       "    </tr>\n",
       "    <tr>\n",
       "      <th>min</th>\n",
       "      <td>0.000000</td>\n",
       "      <td>1.408269e-12</td>\n",
       "    </tr>\n",
       "    <tr>\n",
       "      <th>25%</th>\n",
       "      <td>9124.750000</td>\n",
       "      <td>1.292749e-08</td>\n",
       "    </tr>\n",
       "    <tr>\n",
       "      <th>50%</th>\n",
       "      <td>18249.500000</td>\n",
       "      <td>1.186705e-04</td>\n",
       "    </tr>\n",
       "    <tr>\n",
       "      <th>75%</th>\n",
       "      <td>27374.250000</td>\n",
       "      <td>1.089360e+00</td>\n",
       "    </tr>\n",
       "    <tr>\n",
       "      <th>max</th>\n",
       "      <td>36499.000000</td>\n",
       "      <td>1.000000e+04</td>\n",
       "    </tr>\n",
       "  </tbody>\n",
       "</table>\n",
       "</div>"
      ],
      "text/plain": [
       "               time          rate\n",
       "count  36500.000000  3.650000e+04\n",
       "mean   18249.500000  2.741096e+02\n",
       "std    10536.786749  1.138478e+03\n",
       "min        0.000000  1.408269e-12\n",
       "25%     9124.750000  1.292749e-08\n",
       "50%    18249.500000  1.186705e-04\n",
       "75%    27374.250000  1.089360e+00\n",
       "max    36499.000000  1.000000e+04"
      ]
     },
     "execution_count": 44,
     "metadata": {},
     "output_type": "execute_result"
    }
   ],
   "source": [
    "import math\n",
    "import numpy as np\n",
    "import matplotlib.pyplot as plt\n",
    "import pandas as pd\n",
    "\n",
    "q_i = 10000 \n",
    "d_i = 0.001\n",
    "b = 0.5\n",
    "t = 36500\n",
    "timeCurr = np.arange(0,36500)\n",
    "qcurr = np.zeros(timeCurr.shape)\n",
    "\n",
    "model = input('Enter Exp or Hyp:')\n",
    "print(model)\n",
    "if model == 'Exp':\n",
    "    q = (q_i) * math.exp(-d_i * t)\n",
    "    print(q)\n",
    "elif model == 'Hyp':\n",
    "    q = (q_i) / ((1 + (b * d_i *t)) * math.exp(1 / b))\n",
    "    print(q)\n",
    "\n",
    "model = input('Enter Exp or Hyp:')\n",
    "print(model)\n",
    "if model == 'Exp':\n",
    "    for n in timeCurr:\n",
    "        qcurr[n] = (q_i) * math.exp(-d_i * timeCurr[n])\n",
    "    print(q)\n",
    "elif model == 'Hyp':\n",
    "    qcurr[n] = (q_i) / ((1 + (b * d_i * timeCurr[n])) * math.exp(1 / b))\n",
    "    print(q)\n",
    "\n",
    "\n",
    "plt.plot(timeCurr, qcurr, 'g-s')\n",
    "plt.show()\n",
    "df = pd.DataFrame({'time' : timeCurr , 'rate' : qcurr})\n",
    "df.describe()\n"
   ]
  },
  {
   "cell_type": "markdown",
   "metadata": {},
   "source": [
    "2. Write a Python code that generates, prints and stores 10 random integers into a variable, and then prints the smallest even number out of these 10 numbers. If no even number is present in the 10 random integers, print a message that says \"No even number in the list\". <br>\n",
    "Hints: <br>\n",
    "    a. You can generate a random number using the code below:<br>\n",
    "    myRandInt = np.random.randint(low=1, high=20, size=10)<br>\n",
    "    b. The append function works on a list named myList as follows: <br>\n",
    "    myList.append(\"The current even number from the list should be put in here!\")"
   ]
  },
  {
   "cell_type": "code",
   "execution_count": 40,
   "metadata": {},
   "outputs": [
    {
     "name": "stdout",
     "output_type": "stream",
     "text": [
      "[17  8 15  2  5 16  1 11  8  4]\n",
      "[8, 2, 16, 8, 4]\n",
      "2\n"
     ]
    }
   ],
   "source": [
    "myRandInt = np.random.randint(low=1, high=20, size=10)\n",
    "print(myRandInt)\n",
    "\n",
    "even = [n for n in myRandInt if (n % 2 == 0)]\n",
    "print(even)\n",
    "\n",
    "lowEven = np.min(even)\n",
    "print(lowEven)\n",
    "\n",
    "evenSum = sum(even)\n",
    "if evenSum == 0:\n",
    "    print(\"No even numbers were randomized\")\n"
   ]
  },
  {
   "cell_type": "code",
   "execution_count": null,
   "metadata": {},
   "outputs": [],
   "source": []
  }
 ],
 "metadata": {
  "colab": {
   "collapsed_sections": [
    "sYQs3O-6dHFb",
    "8sIJ4A57dHFk",
    "_73RPOcBdHFn",
    "h9s2tfPcdHFo",
    "zt4YHVYPdHGR"
   ],
   "include_colab_link": true,
   "name": "Copy of intro-python-colab.ipynb",
   "provenance": [],
   "version": "0.3.2"
  },
  "kernelspec": {
   "display_name": "Python 3",
   "language": "python",
   "name": "python3"
  },
  "language_info": {
   "codemirror_mode": {
    "name": "ipython",
    "version": 3
   },
   "file_extension": ".py",
   "mimetype": "text/x-python",
   "name": "python",
   "nbconvert_exporter": "python",
   "pygments_lexer": "ipython3",
   "version": "3.7.3"
  }
 },
 "nbformat": 4,
 "nbformat_minor": 1
}

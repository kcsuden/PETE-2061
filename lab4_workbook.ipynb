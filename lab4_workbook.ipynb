{
 "cells": [
  {
   "cell_type": "markdown",
   "metadata": {
    "colab_type": "text",
    "id": "u1YDPNtbdHDj"
   },
   "source": [
    "# Control Structures and Data Frames\n",
    "\n",
    "## PETE 2061 Lab 4 Workbook \n",
    "\n",
    "## THIS IS DUE BY 11:59 PM ON SUNDAY (Sept 22, 2019)\n",
    "\n",
    "<a id='top'></a>"
   ]
  },
  {
   "cell_type": "markdown",
   "metadata": {},
   "source": [
    "1. Paste the url (or link) to the pete2061 folder in your github account in the \"marked down\" cell below. <br>"
   ]
  },
  {
   "cell_type": "code",
   "execution_count": null,
   "metadata": {},
   "outputs": [],
   "source": [
    "https://github.com/kcsuden/PETE-2061.git"
   ]
  },
  {
   "cell_type": "markdown",
   "metadata": {},
   "source": []
  },
  {
   "cell_type": "markdown",
   "metadata": {},
   "source": [
    "2. It is commonly said that one human year is equivalent to 7 dog years. However, this simple conversion fails to recognize that dogs reach adulthood in approximately two years. As a result, some people believe that it is better to count each of the first two human years as 10.5 dog years, and then count each additional human year as 4 dog\n",
    "years. <br>\n",
    "Write a program that implements the conversion from human years to dog years described in the previous paragraph. Ensure that your program works correctly for conversions of less than two human years and for conversions of two or more human years. Your program should generate a random number between 0 and 10. <br>\n",
    "Hints: <br>\n",
    "a. Remember that you can generate a random number between 0 and 1 using the function numpy.random.random(1)<br>\n",
    "b. You can scale this random number to go from 0 to 10 by multiplying it by 10<br>\n",
    "c. At this point what you have is a random floating-point number that goes from 0 to 10. You need to convert this floating-point number to an integer using the int() function."
   ]
  },
  {
   "cell_type": "code",
   "execution_count": 104,
   "metadata": {},
   "outputs": [
    {
     "name": "stdout",
     "output_type": "stream",
     "text": [
      "7\n",
      "41.0\n"
     ]
    }
   ],
   "source": [
    "import numpy as np\n",
    "\n",
    "randNum = 10 * np.random.random(1)\n",
    "humYears = int(randNum)\n",
    "print(humYears)\n",
    "\n",
    "if humYears > 2:\n",
    "    dogYears = (2 * 10.5) + ((humYears - 2) * 4)\n",
    "    print(dogYears)\n",
    "else:\n",
    "    dogYears = humYears * 10.5\n",
    "    print(dogYears)"
   ]
  },
  {
   "cell_type": "markdown",
   "metadata": {},
   "source": [
    "3. For Students A through J, generate 10 different random numbers between 0 and 100. Create a dataframe to store the student names in the first column (called \"Name\"), and store the scores in the second column called \"Score\".\n",
    "   Print out the mean, standard deviation and maximum of the scores, as well as the index of the student with this maximum score. "
   ]
  },
  {
   "cell_type": "code",
   "execution_count": 113,
   "metadata": {},
   "outputs": [
    {
     "data": {
      "text/html": [
       "<div>\n",
       "<style scoped>\n",
       "    .dataframe tbody tr th:only-of-type {\n",
       "        vertical-align: middle;\n",
       "    }\n",
       "\n",
       "    .dataframe tbody tr th {\n",
       "        vertical-align: top;\n",
       "    }\n",
       "\n",
       "    .dataframe thead th {\n",
       "        text-align: right;\n",
       "    }\n",
       "</style>\n",
       "<table border=\"1\" class=\"dataframe\">\n",
       "  <thead>\n",
       "    <tr style=\"text-align: right;\">\n",
       "      <th></th>\n",
       "      <th>Grades</th>\n",
       "    </tr>\n",
       "  </thead>\n",
       "  <tbody>\n",
       "    <tr>\n",
       "      <th>count</th>\n",
       "      <td>10.000000</td>\n",
       "    </tr>\n",
       "    <tr>\n",
       "      <th>mean</th>\n",
       "      <td>58.348707</td>\n",
       "    </tr>\n",
       "    <tr>\n",
       "      <th>std</th>\n",
       "      <td>27.771096</td>\n",
       "    </tr>\n",
       "    <tr>\n",
       "      <th>min</th>\n",
       "      <td>2.905034</td>\n",
       "    </tr>\n",
       "    <tr>\n",
       "      <th>25%</th>\n",
       "      <td>51.851882</td>\n",
       "    </tr>\n",
       "    <tr>\n",
       "      <th>50%</th>\n",
       "      <td>57.762249</td>\n",
       "    </tr>\n",
       "    <tr>\n",
       "      <th>75%</th>\n",
       "      <td>75.665476</td>\n",
       "    </tr>\n",
       "    <tr>\n",
       "      <th>max</th>\n",
       "      <td>96.527735</td>\n",
       "    </tr>\n",
       "  </tbody>\n",
       "</table>\n",
       "</div>"
      ],
      "text/plain": [
       "          Grades\n",
       "count  10.000000\n",
       "mean   58.348707\n",
       "std    27.771096\n",
       "min     2.905034\n",
       "25%    51.851882\n",
       "50%    57.762249\n",
       "75%    75.665476\n",
       "max    96.527735"
      ]
     },
     "execution_count": 113,
     "metadata": {},
     "output_type": "execute_result"
    }
   ],
   "source": [
    "import pandas as pd\n",
    "studentLetter = \"A B C D E F G H I J\".split()\n",
    "Grades = 100 * np.random.random((10,1))\n",
    "df = pd.DataFrame(Grades, index = studentLetter, columns = \"Grades\".split())\n",
    "df\n",
    "df.describe()"
   ]
  },
  {
   "cell_type": "markdown",
   "metadata": {},
   "source": [
    "4. Write a program that begins by reading a score in percentage (%) from the user. Then your program should compute and display the equivalent letter grade. Ensure that your program generates an appropriate error message if the user enters an invalid score.\n",
    "Use the grading scale on your syllabus. These scores are typed in below."
   ]
  },
  {
   "cell_type": "code",
   "execution_count": 10,
   "metadata": {},
   "outputs": [
    {
     "name": "stdout",
     "output_type": "stream",
     "text": [
      "Enter a Percentage to Recieve a Letter Grade79\n",
      "Your Letter Grade is a C+\n"
     ]
    }
   ],
   "source": [
    "letterGrade = ['A+','A','A-','B+','B','B-','C+','C','C-','D+','D','D-']\n",
    "scores = [97,93,90,87,83,80,77,73,70,67,63,60]\n",
    "\n",
    "userPercentage = input(\"Enter a Percentage to Recieve a Letter Grade\")\n",
    "percent = int(userPercentage)\n",
    "\n",
    "if percent > 96 and percent < 101:\n",
    "    print(\"Your Grade is an A+\")\n",
    "if percent > 92 and percent < 97:\n",
    "    print(\"Your Grade is an A\")\n",
    "if percent > 89 and percent < 94:\n",
    "    print(\"Your Letter Grade is an A-\")\n",
    "if percent > 86 and percent < 90:\n",
    "    print(\"Your Letter Grade is a B+\")\n",
    "if percent > 82 and percent < 87:\n",
    "    print(\"Your Letter Grade is a B\")\n",
    "if percent > 79 and percent < 84:\n",
    "    print(\"Your Letter Grade is a B-\")\n",
    "if percent > 76 and percent < 80:\n",
    "    print(\"Your Letter Grade is a C+\")\n",
    "if percent > 72 and percent < 77:\n",
    "    print(\"Your Letter Grade is a C\")\n",
    "if percent > 69 and percent < 74:\n",
    "    print(\"Your Letter Grade is a C-\")\n",
    "if percent > 66 and percent < 70:\n",
    "    print(\"Your Letter Grade is a D+ \")\n",
    "if percent > 62 and percent < 67:\n",
    "    print(\"Your Letter Grade is a D\")\n",
    "if percent > 59 and percent < 63:\n",
    "    print(\"Your Letter Grade is a D-\")\n",
    "if percent < 60:\n",
    "    print(\"You Failed :(\")\n",
    "if percent > 100:\n",
    "    print(\"Invalid Entry. Please Try Again.\")\n",
    "\n",
    "# A score of less than 60 gets a letter grade of F"
   ]
  },
  {
   "cell_type": "markdown",
   "metadata": {},
   "source": [
    "5. Write a program that generates 10 random integers, and then prints the largest odd number that was entered. If no odd number was entered it should print a message to that effect. <br>\n",
    "Hints: <br>\n",
    "    a. Use pseudo-code. <br>\n",
    "    b. Generate a random number using the code below:<br>\n",
    "    myRandInt = np.random.randint(low=1, high=20, size=10)<br>\n",
    "    c. Initialize an empty list to contain the odd numbers. Name this list oddInt <br>\n",
    "    d. Within your for loop, you can append odd numbers to this empty list using the append function. eg: <br>\n",
    "    oddInt.append(\"The current odd number from the list should be put in here!\")"
   ]
  },
  {
   "cell_type": "code",
   "execution_count": 102,
   "metadata": {},
   "outputs": [
    {
     "name": "stdout",
     "output_type": "stream",
     "text": [
      "[ 9  6  5  6 17 10 18 19  6  4]\n",
      "[9, 5, 17, 19]\n",
      "19\n"
     ]
    }
   ],
   "source": [
    "import numpy as np\n",
    "myRandInt = np.random.randint(low=1, high=20, size=10)\n",
    "\n",
    "oddInt = [n for n in myRandInt if (n % 2) == 1]\n",
    "sumList = sum(myRandInt)\n",
    "sumOddInt = sum(oddInt)\n",
    "if sumOddInt == 0:\n",
    "    print(\"There Were No Odd Numbers Generated\")\n",
    "print(myRandInt)\n",
    "print(oddInt)\n",
    "print(max(oddInt))"
   ]
  },
  {
   "cell_type": "code",
   "execution_count": null,
   "metadata": {},
   "outputs": [],
   "source": []
  },
  {
   "cell_type": "code",
   "execution_count": null,
   "metadata": {},
   "outputs": [],
   "source": []
  }
 ],
 "metadata": {
  "colab": {
   "collapsed_sections": [
    "sYQs3O-6dHFb",
    "8sIJ4A57dHFk",
    "_73RPOcBdHFn",
    "h9s2tfPcdHFo",
    "zt4YHVYPdHGR"
   ],
   "include_colab_link": true,
   "name": "Copy of intro-python-colab.ipynb",
   "provenance": [],
   "version": "0.3.2"
  },
  "kernelspec": {
   "display_name": "Python 3",
   "language": "python",
   "name": "python3"
  },
  "language_info": {
   "codemirror_mode": {
    "name": "ipython",
    "version": 3
   },
   "file_extension": ".py",
   "mimetype": "text/x-python",
   "name": "python",
   "nbconvert_exporter": "python",
   "pygments_lexer": "ipython3",
   "version": "3.7.3"
  }
 },
 "nbformat": 4,
 "nbformat_minor": 1
}
